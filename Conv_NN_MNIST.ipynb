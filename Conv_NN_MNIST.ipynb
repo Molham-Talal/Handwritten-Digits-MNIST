{
  "nbformat": 4,
  "nbformat_minor": 0,
  "metadata": {
    "colab": {
      "name": "Conv-NN-MNIST",
      "version": "0.3.2",
      "provenance": [],
      "collapsed_sections": []
    },
    "kernelspec": {
      "name": "python3",
      "display_name": "Python 3"
    }
  },
  "cells": [
    {
      "cell_type": "markdown",
      "metadata": {
        "id": "iQjHqsmTAVLU",
        "colab_type": "text"
      },
      "source": [
        "***CNN-MNIST-Handwritten-digits***\n",
        "\n",
        "Simple CNN with one Conv layer and one MaxPool layer trained on MNIST dataset usin Adam optimizer and callback when accuarcy of training reach 99.8%\n"
      ]
    },
    {
      "cell_type": "code",
      "metadata": {
        "id": "sfQRyaJWAIdg",
        "colab_type": "code",
        "outputId": "8b74399f-fa60-4720-c0c5-e84968af4d8d",
        "colab": {
          "base_uri": "https://localhost:8080/",
          "height": 340
        }
      },
      "source": [
        "import tensorflow as tf\n",
        "\n",
        "class myCallback(tf.keras.callbacks.Callback):\n",
        "  def on_epoch_end(self, epoch, logs={}):\n",
        "    if(logs.get('acc')>0.998):\n",
        "      print(\"\\nReached 99% accuracy so cancelling training!\")\n",
        "      self.model.stop_training = True\n",
        "\n",
        "mnist = tf.keras.datasets.mnist\n",
        "(training_images, training_labels), (test_images, test_labels) = mnist.load_data()\n",
        "training_images=training_images.reshape(60000, 28, 28, 1)\n",
        "training_images=training_images / 255.0\n",
        "test_images = test_images.reshape(10000, 28, 28, 1)\n",
        "test_images=test_images/255.0\n",
        "\n",
        "callbacks = myCallback()\n",
        "\n",
        "model = tf.keras.models.Sequential([\n",
        "  tf.keras.layers.Conv2D(64, (3,3), activation='relu', input_shape=(28, 28, 1)),\n",
        "  tf.keras.layers.MaxPooling2D(2, 2),\n",
        "  tf.keras.layers.Flatten(),\n",
        "  tf.keras.layers.Dense(128, activation='relu'),\n",
        "  tf.keras.layers.Dense(10, activation='softmax')\n",
        "])\n",
        "\n",
        "model.compile(optimizer='adam', loss='sparse_categorical_crossentropy', metrics=['accuracy'])\n",
        "model.fit(training_images, training_labels, epochs=20, callbacks=[callbacks])\n",
        "test_loss = model.evaluate(test_images, test_labels)\n"
      ],
      "execution_count": 0,
      "outputs": [
        {
          "output_type": "stream",
          "text": [
            "Epoch 1/20\n",
            "60000/60000 [==============================] - 55s 918us/sample - loss: 0.1326 - acc: 0.9614\n",
            "Epoch 2/20\n",
            "60000/60000 [==============================] - 53s 888us/sample - loss: 0.0451 - acc: 0.9868\n",
            "Epoch 3/20\n",
            "60000/60000 [==============================] - 52s 869us/sample - loss: 0.0289 - acc: 0.9907\n",
            "Epoch 4/20\n",
            "60000/60000 [==============================] - 53s 883us/sample - loss: 0.0184 - acc: 0.9945\n",
            "Epoch 5/20\n",
            "60000/60000 [==============================] - 53s 889us/sample - loss: 0.0123 - acc: 0.9957\n",
            "Epoch 6/20\n",
            "60000/60000 [==============================] - 53s 881us/sample - loss: 0.0088 - acc: 0.9971\n",
            "Epoch 7/20\n",
            "60000/60000 [==============================] - 54s 892us/sample - loss: 0.0074 - acc: 0.9975\n",
            "Epoch 8/20\n",
            "59968/60000 [============================>.] - ETA: 0s - loss: 0.0054 - acc: 0.9982\n",
            "Reached 99% accuracy so cancelling training!\n",
            "60000/60000 [==============================] - 52s 865us/sample - loss: 0.0054 - acc: 0.9982\n",
            "10000/10000 [==============================] - 2s 219us/sample - loss: 0.0580 - acc: 0.9869\n"
          ],
          "name": "stdout"
        }
      ]
    },
    {
      "cell_type": "code",
      "metadata": {
        "id": "PyazPKYgA2E6",
        "colab_type": "code",
        "colab": {}
      },
      "source": [
        ""
      ],
      "execution_count": 0,
      "outputs": []
    }
  ]
}