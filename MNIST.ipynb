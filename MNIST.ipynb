{
  "nbformat": 4,
  "nbformat_minor": 0,
  "metadata": {
    "colab": {
      "name": "MNIST.ipynb",
      "version": "0.3.2",
      "provenance": [],
      "collapsed_sections": []
    },
    "kernelspec": {
      "name": "python3",
      "display_name": "Python 3"
    }
  },
  "cells": [
    {
      "cell_type": "markdown",
      "metadata": {
        "id": "tOoyQ70H00_s",
        "colab_type": "text"
      },
      "source": [
        "**Handwritting Recognition (MNIST)**\n",
        "\n",
        "Keras sequential model:\n",
        "\n",
        "\n",
        "*   Flatten layer with shape 28x28 (dimensions of the image)\n",
        "*   Two Dense layers  (one with 512 neurons and the second with softmax function with 10 outputs)\n",
        "*   \"RelU\" Activation function\n",
        "*   \"Adam\" as an optimizer\n",
        "*   \"Sparse Categorical Crossentropy\" as a loss function\n",
        "*   \"Accuracy\" as a evaluation metrics\n",
        "*   \"Callback\" when reach 99% accuracy\n",
        "\n",
        "\n",
        "\n",
        "\n",
        "\n"
      ]
    },
    {
      "cell_type": "code",
      "metadata": {
        "id": "9rvXQGAA0ssC",
        "colab_type": "code",
        "outputId": "615b3531-f8f1-4c8e-e5c3-a60d394292d6",
        "colab": {
          "base_uri": "https://localhost:8080/",
          "height": 238
        }
      },
      "source": [
        "import tensorflow as tf\n",
        "\n",
        "class myCallback(tf.keras.callbacks.Callback):\n",
        "  def on_epoch_end(self, epoch, logs={}):\n",
        "    if(logs.get('acc')>0.99):\n",
        "      print(\"\\nReached 99% accuracy so cancelling training!\")\n",
        "      self.model.stop_training = True\n",
        "      \n",
        "mnist = tf.keras.datasets.mnist\n",
        "      \n",
        "(x_train, y_train),(x_test, y_test) = mnist.load_data()\n",
        "x_train, x_test = x_train / 255.0, x_test / 255.0\n",
        "\n",
        "callbacks = myCallback()\n",
        "\n",
        "model = tf.keras.models.Sequential([\n",
        "  tf.keras.layers.Flatten(input_shape=(28, 28)),\n",
        "  tf.keras.layers.Dense(512, activation=tf.nn.relu),\n",
        "  tf.keras.layers.Dense(10, activation=tf.nn.softmax)\n",
        "])\n",
        "\n",
        "model.compile(optimizer='adam',\n",
        "              loss='sparse_categorical_crossentropy',\n",
        "              metrics=['accuracy'])\n",
        "\n",
        "model.fit(x_train, y_train,epochs=10, callbacks=[callbacks])"
      ],
      "execution_count": 0,
      "outputs": [
        {
          "output_type": "stream",
          "text": [
            "Epoch 1/10\n",
            "60000/60000 [==============================] - 8s 132us/sample - loss: 0.2028 - acc: 0.9398\n",
            "Epoch 2/10\n",
            "60000/60000 [==============================] - 8s 129us/sample - loss: 0.0796 - acc: 0.9755\n",
            "Epoch 3/10\n",
            "60000/60000 [==============================] - 8s 127us/sample - loss: 0.0530 - acc: 0.9840\n",
            "Epoch 4/10\n",
            "60000/60000 [==============================] - 8s 129us/sample - loss: 0.0359 - acc: 0.9885\n",
            "Epoch 5/10\n",
            "59968/60000 [============================>.] - ETA: 0s - loss: 0.0261 - acc: 0.9914\n",
            "Reached 99% accuracy so cancelling training!\n",
            "60000/60000 [==============================] - 9s 142us/sample - loss: 0.0261 - acc: 0.9915\n"
          ],
          "name": "stdout"
        },
        {
          "output_type": "execute_result",
          "data": {
            "text/plain": [
              "<tensorflow.python.keras.callbacks.History at 0x7f0613ae4438>"
            ]
          },
          "metadata": {
            "tags": []
          },
          "execution_count": 4
        }
      ]
    }
  ]
}